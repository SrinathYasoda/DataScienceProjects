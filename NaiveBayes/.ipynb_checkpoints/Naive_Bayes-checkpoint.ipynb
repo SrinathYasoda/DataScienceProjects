{
 "cells": [
  {
   "cell_type": "markdown",
   "metadata": {
    "id": "w8k1n4Vg95Hi"
   },
   "source": [
    "<h2><u>Machine Learning And NLP</u></h2>\n",
    "\n",
    "# Module 4 - Mathematical And Bayesian Models\n",
    "\n",
    "## Demo 1 : Naīve Bayes Calssifier"
   ]
  },
  {
   "cell_type": "markdown",
   "metadata": {
    "id": "zBjbzYFh95Hk"
   },
   "source": [
    "In this demo, you will learn how to apply Naive Bayes algorithm in Python using scikit-learn library."
   ]
  },
  {
   "cell_type": "markdown",
   "metadata": {
    "id": "9S8s7KVL9r6n"
   },
   "source": [
    "UNDERSTANDING DATA #Y IS SALARY X [AGE, TYPE ETC..]\n",
    "\n",
    "IMPORT LIBRARIES [Done]\n",
    "\n",
    "READ DATASET [Done]\n",
    "\n",
    "DATA PREPROCESSING [find null and missing value treatment, drop irrelevant columns, encoding categorical columns, scaling, correlation ]\n",
    "\n",
    "SPLIT THE DATA IN TO X AND Y\n",
    "DIVIDE THE DATA IN TO TRAIN AND TEST\n",
    "FIT THE MODEL FOR TRAINING DATA\n",
    "EVALUATE ACCURACY FOR TEST DATA"
   ]
  },
  {
   "cell_type": "markdown",
   "metadata": {
    "id": "8MU4dxfm95Hl"
   },
   "source": [
    "---"
   ]
  },
  {
   "cell_type": "markdown",
   "metadata": {
    "id": "D5r9zXzs95Hm"
   },
   "source": [
    "## Problem Statement"
   ]
  },
  {
   "cell_type": "markdown",
   "metadata": {
    "id": "txU9QozN95Hn"
   },
   "source": [
    "Given the details of an individual classify the salary is greater than 50K or not."
   ]
  },
  {
   "cell_type": "markdown",
   "metadata": {
    "id": "Rj7cTmzt_z9N"
   },
   "source": [
    "4*8= NUMBER"
   ]
  },
  {
   "cell_type": "markdown",
   "metadata": {
    "id": "ujElf1jl95Ho"
   },
   "source": [
    "---"
   ]
  },
  {
   "cell_type": "markdown",
   "metadata": {
    "id": "tf_USpT995Hr"
   },
   "source": [
    "## Importing Required Libraries"
   ]
  },
  {
   "cell_type": "code",
   "execution_count": 1,
   "metadata": {
    "executionInfo": {
     "elapsed": 3878,
     "status": "ok",
     "timestamp": 1602333273069,
     "user": {
      "displayName": "Kṛṣṇa solutions",
      "photoUrl": "https://lh3.googleusercontent.com/a-/AOh14GhB9TuOirJiQouhn5RaJmKjKZyzCMuokx0bNZti=s64",
      "userId": "14911029245911425813"
     },
     "user_tz": -330
    },
    "id": "EWq4obFW95Ht"
   },
   "outputs": [],
   "source": [
    "import pandas as pd #dataframe\n",
    "import matplotlib.pyplot as plt #plotting\n",
    "import numpy as np #array\n",
    "from sklearn.model_selection import train_test_split #splitting the data to train and test\n",
    "from sklearn.preprocessing import LabelEncoder #encode categorical variables\n",
    "from sklearn.naive_bayes import GaussianNB, BernoulliNB #naive bayes\n",
    "from sklearn.metrics import accuracy_score #accuracy\n",
    "from io import StringIO\n",
    "%matplotlib inline"
   ]
  },
  {
   "cell_type": "markdown",
   "metadata": {
    "id": "557KkM7c95H0"
   },
   "source": [
    "---"
   ]
  },
  {
   "cell_type": "markdown",
   "metadata": {
    "id": "nHL96Lao95H1"
   },
   "source": [
    "## Dataset"
   ]
  },
  {
   "cell_type": "code",
   "execution_count": 2,
   "metadata": {
    "colab": {
     "base_uri": "https://localhost:8080/",
     "height": 34
    },
    "executionInfo": {
     "elapsed": 538222,
     "status": "ok",
     "timestamp": 1602333807458,
     "user": {
      "displayName": "Kṛṣṇa solutions",
      "photoUrl": "https://lh3.googleusercontent.com/a-/AOh14GhB9TuOirJiQouhn5RaJmKjKZyzCMuokx0bNZti=s64",
      "userId": "14911029245911425813"
     },
     "user_tz": -330
    },
    "id": "NIhxaNxpAnhU",
    "outputId": "dd050b0a-3229-476b-f16d-4914599b30fd"
   },
   "outputs": [
    {
     "name": "stdout",
     "output_type": "stream",
     "text": [
      "Mounted at /content/drive\n"
     ]
    }
   ],
   "source": [
    "from google.colab import drive\n",
    "drive.mount('/content/drive')"
   ]
  },
  {
   "cell_type": "code",
   "execution_count": 3,
   "metadata": {
    "executionInfo": {
     "elapsed": 538222,
     "status": "ok",
     "timestamp": 1602333807463,
     "user": {
      "displayName": "Kṛṣṇa solutions",
      "photoUrl": "https://lh3.googleusercontent.com/a-/AOh14GhB9TuOirJiQouhn5RaJmKjKZyzCMuokx0bNZti=s64",
      "userId": "14911029245911425813"
     },
     "user_tz": -330
    },
    "id": "n4FDSDeLBEr6"
   },
   "outputs": [],
   "source": [
    "# understand the data [different variables, y variable, x variables]\n",
    "# import the libraries (DONE)\n",
    "# read dataset (DONE)\n",
    "# data preprocessing (TO BE DONE)\n",
    "# train test split\n",
    "# training the model using training data\n",
    "# testing the model using test  data\n"
   ]
  },
  {
   "cell_type": "markdown",
   "metadata": {
    "id": "OUUfjzyh95H2"
   },
   "source": [
    "The dataset contains various details of individuals along with their salary classified either greater than 50K or less.\n",
    "\n",
    "- __Age__: continuous. \n",
    "- __Workclass__: Private, Self-emp-not-inc, Self-emp-inc, Federal-gov, Local-gov, State-gov, Without-pay, Never-worked. \n",
    "- __Fnlwgt__: continuous. \n",
    "- __Education__: Bachelors, Some-college, 11th, HS-grad, Prof-school, Assoc-acdm, Assoc-voc, 9th, 7th-8th, 12th, Masters, 1st-4th, 10th, Doctorate, 5th-6th, Preschool. \n",
    "- __Education-num__: continuous. \n",
    "- __Marital-status__: Married-civ-spouse, Divorced, Never-married, Separated, Widowed, Married-spouse-absent, Married-AF-spouse. \n",
    "- __Occupation__: Tech-support, Craft-repair, Other-service, Sales, Exec-managerial, Prof-specialty, Handlers-cleaners, Machine-op-inspct, Adm-clerical, Farming-fishing, Transport-moving, Priv-house-serv, Protective-serv, Armed-Forces. \n",
    "- __Relationship__: Wife, Own-child, Husband, Not-in-family, Other-relative, Unmarried. \n",
    "- __Race__: White, Asian-Pac-Islander, Amer-Indian-Eskimo, Other, Black. \n",
    "- __Sex__: Female, Male. \n",
    "- __Capital-gain__: continuous. \n",
    "- __Capital-loss__: continuous. \n",
    "- __Hours-per-week__: continuous. \n",
    "- __Native-country__: United-States, Cambodia, England, Puerto-Rico, Canada, Germany, Outlying-US(Guam-USVI-etc), India, Japan, Greece, South, China, Cuba, Iran, Honduras, Philippines, Italy, Poland, Jamaica, Vietnam, Mexico, Portugal, Ireland, France, Dominican-Republic, Laos, Ecuador, Taiwan, Haiti, Columbia, Hungary, Guatemala, Nicaragua, Scotland, Thailand, Yugoslavia, El-Salvador, Trinadad&Tobago, Peru, Hong, Holand-Netherlands.\n",
    "- __Income__: >50K, <=50K."
   ]
  },
  {
   "cell_type": "markdown",
   "metadata": {
    "id": "pL8I_H2P95H2"
   },
   "source": [
    "---\n",
    "## Data Analysis"
   ]
  },
  {
   "cell_type": "code",
   "execution_count": 4,
   "metadata": {
    "executionInfo": {
     "elapsed": 540237,
     "status": "ok",
     "timestamp": 1602333809482,
     "user": {
      "displayName": "Kṛṣṇa solutions",
      "photoUrl": "https://lh3.googleusercontent.com/a-/AOh14GhB9TuOirJiQouhn5RaJmKjKZyzCMuokx0bNZti=s64",
      "userId": "14911029245911425813"
     },
     "user_tz": -330
    },
    "id": "TKMLUhZv95H3"
   },
   "outputs": [],
   "source": [
    "income_data=pd.read_csv('/content/drive/My Drive/Machine Learning/M4_Mathematical and Bayesian models/Naive Bayes/income_evaluation.csv')"
   ]
  },
  {
   "cell_type": "markdown",
   "metadata": {
    "id": "ESa3Z6TU95H9"
   },
   "source": [
    "<div style=\"background-color:##EDF9FF\">\n",
    "  <ul><li><h3> Checking Data</h3></li></ul>\n",
    "</div>"
   ]
  },
  {
   "cell_type": "code",
   "execution_count": 5,
   "metadata": {
    "colab": {
     "base_uri": "https://localhost:8080/",
     "height": 383
    },
    "executionInfo": {
     "elapsed": 540235,
     "status": "ok",
     "timestamp": 1602333809493,
     "user": {
      "displayName": "Kṛṣṇa solutions",
      "photoUrl": "https://lh3.googleusercontent.com/a-/AOh14GhB9TuOirJiQouhn5RaJmKjKZyzCMuokx0bNZti=s64",
      "userId": "14911029245911425813"
     },
     "user_tz": -330
    },
    "id": "YeY4t2eB95H-",
    "outputId": "70f85e23-5547-47ef-eb2a-3a536a6a10bd"
   },
   "outputs": [
    {
     "data": {
      "text/html": [
       "<div>\n",
       "<style scoped>\n",
       "    .dataframe tbody tr th:only-of-type {\n",
       "        vertical-align: middle;\n",
       "    }\n",
       "\n",
       "    .dataframe tbody tr th {\n",
       "        vertical-align: top;\n",
       "    }\n",
       "\n",
       "    .dataframe thead th {\n",
       "        text-align: right;\n",
       "    }\n",
       "</style>\n",
       "<table border=\"1\" class=\"dataframe\">\n",
       "  <thead>\n",
       "    <tr style=\"text-align: right;\">\n",
       "      <th></th>\n",
       "      <th>Age</th>\n",
       "      <th>Workclass</th>\n",
       "      <th>Fnlwgt</th>\n",
       "      <th>Education</th>\n",
       "      <th>Education-num</th>\n",
       "      <th>Marital-status</th>\n",
       "      <th>Occupation</th>\n",
       "      <th>Relationship</th>\n",
       "      <th>Race</th>\n",
       "      <th>Sex</th>\n",
       "      <th>Capital-gain</th>\n",
       "      <th>Capital-loss</th>\n",
       "      <th>Hours-per-week</th>\n",
       "      <th>Native-country</th>\n",
       "      <th>Income</th>\n",
       "    </tr>\n",
       "  </thead>\n",
       "  <tbody>\n",
       "    <tr>\n",
       "      <th>0</th>\n",
       "      <td>39</td>\n",
       "      <td>State-gov</td>\n",
       "      <td>77516</td>\n",
       "      <td>Bachelors</td>\n",
       "      <td>13</td>\n",
       "      <td>Never-married</td>\n",
       "      <td>Adm-clerical</td>\n",
       "      <td>Not-in-family</td>\n",
       "      <td>White</td>\n",
       "      <td>Male</td>\n",
       "      <td>2174</td>\n",
       "      <td>0</td>\n",
       "      <td>40</td>\n",
       "      <td>United-States</td>\n",
       "      <td>&lt;=50K</td>\n",
       "    </tr>\n",
       "    <tr>\n",
       "      <th>1</th>\n",
       "      <td>50</td>\n",
       "      <td>Self-emp-not-inc</td>\n",
       "      <td>83311</td>\n",
       "      <td>Bachelors</td>\n",
       "      <td>13</td>\n",
       "      <td>Married-civ-spouse</td>\n",
       "      <td>Exec-managerial</td>\n",
       "      <td>Husband</td>\n",
       "      <td>White</td>\n",
       "      <td>Male</td>\n",
       "      <td>0</td>\n",
       "      <td>0</td>\n",
       "      <td>13</td>\n",
       "      <td>United-States</td>\n",
       "      <td>&lt;=50K</td>\n",
       "    </tr>\n",
       "    <tr>\n",
       "      <th>2</th>\n",
       "      <td>38</td>\n",
       "      <td>Private</td>\n",
       "      <td>215646</td>\n",
       "      <td>HS-grad</td>\n",
       "      <td>9</td>\n",
       "      <td>Divorced</td>\n",
       "      <td>Handlers-cleaners</td>\n",
       "      <td>Not-in-family</td>\n",
       "      <td>White</td>\n",
       "      <td>Male</td>\n",
       "      <td>0</td>\n",
       "      <td>0</td>\n",
       "      <td>40</td>\n",
       "      <td>United-States</td>\n",
       "      <td>&lt;=50K</td>\n",
       "    </tr>\n",
       "    <tr>\n",
       "      <th>3</th>\n",
       "      <td>53</td>\n",
       "      <td>Private</td>\n",
       "      <td>234721</td>\n",
       "      <td>11th</td>\n",
       "      <td>7</td>\n",
       "      <td>Married-civ-spouse</td>\n",
       "      <td>Handlers-cleaners</td>\n",
       "      <td>Husband</td>\n",
       "      <td>Black</td>\n",
       "      <td>Male</td>\n",
       "      <td>0</td>\n",
       "      <td>0</td>\n",
       "      <td>40</td>\n",
       "      <td>United-States</td>\n",
       "      <td>&lt;=50K</td>\n",
       "    </tr>\n",
       "    <tr>\n",
       "      <th>4</th>\n",
       "      <td>28</td>\n",
       "      <td>Private</td>\n",
       "      <td>338409</td>\n",
       "      <td>Bachelors</td>\n",
       "      <td>13</td>\n",
       "      <td>Married-civ-spouse</td>\n",
       "      <td>Prof-specialty</td>\n",
       "      <td>Wife</td>\n",
       "      <td>Black</td>\n",
       "      <td>Female</td>\n",
       "      <td>0</td>\n",
       "      <td>0</td>\n",
       "      <td>40</td>\n",
       "      <td>Cuba</td>\n",
       "      <td>&lt;=50K</td>\n",
       "    </tr>\n",
       "  </tbody>\n",
       "</table>\n",
       "</div>"
      ],
      "text/plain": [
       "   Age          Workclass  Fnlwgt  ... Hours-per-week  Native-country  Income\n",
       "0   39          State-gov   77516  ...             40   United-States   <=50K\n",
       "1   50   Self-emp-not-inc   83311  ...             13   United-States   <=50K\n",
       "2   38            Private  215646  ...             40   United-States   <=50K\n",
       "3   53            Private  234721  ...             40   United-States   <=50K\n",
       "4   28            Private  338409  ...             40            Cuba   <=50K\n",
       "\n",
       "[5 rows x 15 columns]"
      ]
     },
     "execution_count": 5,
     "metadata": {
      "tags": []
     },
     "output_type": "execute_result"
    }
   ],
   "source": [
    "income_data.head()"
   ]
  },
  {
   "cell_type": "code",
   "execution_count": 6,
   "metadata": {
    "colab": {
     "base_uri": "https://localhost:8080/",
     "height": 34
    },
    "executionInfo": {
     "elapsed": 540223,
     "status": "ok",
     "timestamp": 1602333809495,
     "user": {
      "displayName": "Kṛṣṇa solutions",
      "photoUrl": "https://lh3.googleusercontent.com/a-/AOh14GhB9TuOirJiQouhn5RaJmKjKZyzCMuokx0bNZti=s64",
      "userId": "14911029245911425813"
     },
     "user_tz": -330
    },
    "id": "nxNKPE5E95IF",
    "outputId": "e36dc49e-977c-4da4-aabd-7c09c04e6b61"
   },
   "outputs": [
    {
     "data": {
      "text/plain": [
       "(32561, 15)"
      ]
     },
     "execution_count": 6,
     "metadata": {
      "tags": []
     },
     "output_type": "execute_result"
    }
   ],
   "source": [
    "income_data.shape"
   ]
  },
  {
   "cell_type": "markdown",
   "metadata": {
    "id": "Cr6HnR7F95IK"
   },
   "source": [
    "<div style=\"background-color:##FBFFE3\">\n",
    "    <div style=\"float:left\">\n",
    "        <img src='https://drive.google.com/uc?export=download&id=1gpc8kbwaenTpaIvnO_MQR3vw12rKYQrJ', width=20,height=20,>\n",
    "    </div>\n",
    "    <span style=\"padding:20px;\">Number of rows and columns </span>\n",
    "</div>"
   ]
  },
  {
   "cell_type": "code",
   "execution_count": 7,
   "metadata": {
    "colab": {
     "base_uri": "https://localhost:8080/",
     "height": 166
    },
    "executionInfo": {
     "elapsed": 540213,
     "status": "ok",
     "timestamp": 1602333809496,
     "user": {
      "displayName": "Kṛṣṇa solutions",
      "photoUrl": "https://lh3.googleusercontent.com/a-/AOh14GhB9TuOirJiQouhn5RaJmKjKZyzCMuokx0bNZti=s64",
      "userId": "14911029245911425813"
     },
     "user_tz": -330
    },
    "id": "xRTaaTEq95IL",
    "outputId": "d1dac275-c03e-4276-a899-cc4e79fe7779"
   },
   "outputs": [
    {
     "data": {
      "text/html": [
       "<div>\n",
       "<style scoped>\n",
       "    .dataframe tbody tr th:only-of-type {\n",
       "        vertical-align: middle;\n",
       "    }\n",
       "\n",
       "    .dataframe tbody tr th {\n",
       "        vertical-align: top;\n",
       "    }\n",
       "\n",
       "    .dataframe thead th {\n",
       "        text-align: right;\n",
       "    }\n",
       "</style>\n",
       "<table border=\"1\" class=\"dataframe\">\n",
       "  <thead>\n",
       "    <tr style=\"text-align: right;\">\n",
       "      <th></th>\n",
       "      <th>Workclass</th>\n",
       "      <th>Education</th>\n",
       "      <th>Marital-status</th>\n",
       "      <th>Occupation</th>\n",
       "      <th>Relationship</th>\n",
       "      <th>Race</th>\n",
       "      <th>Sex</th>\n",
       "      <th>Native-country</th>\n",
       "      <th>Income</th>\n",
       "    </tr>\n",
       "  </thead>\n",
       "  <tbody>\n",
       "    <tr>\n",
       "      <th>count</th>\n",
       "      <td>32561</td>\n",
       "      <td>32561</td>\n",
       "      <td>32561</td>\n",
       "      <td>32561</td>\n",
       "      <td>32561</td>\n",
       "      <td>32561</td>\n",
       "      <td>32561</td>\n",
       "      <td>32561</td>\n",
       "      <td>32561</td>\n",
       "    </tr>\n",
       "    <tr>\n",
       "      <th>unique</th>\n",
       "      <td>9</td>\n",
       "      <td>16</td>\n",
       "      <td>7</td>\n",
       "      <td>15</td>\n",
       "      <td>6</td>\n",
       "      <td>5</td>\n",
       "      <td>2</td>\n",
       "      <td>42</td>\n",
       "      <td>2</td>\n",
       "    </tr>\n",
       "    <tr>\n",
       "      <th>top</th>\n",
       "      <td>Private</td>\n",
       "      <td>HS-grad</td>\n",
       "      <td>Married-civ-spouse</td>\n",
       "      <td>Prof-specialty</td>\n",
       "      <td>Husband</td>\n",
       "      <td>White</td>\n",
       "      <td>Male</td>\n",
       "      <td>United-States</td>\n",
       "      <td>&lt;=50K</td>\n",
       "    </tr>\n",
       "    <tr>\n",
       "      <th>freq</th>\n",
       "      <td>22696</td>\n",
       "      <td>10501</td>\n",
       "      <td>14976</td>\n",
       "      <td>4140</td>\n",
       "      <td>13193</td>\n",
       "      <td>27816</td>\n",
       "      <td>21790</td>\n",
       "      <td>29170</td>\n",
       "      <td>24720</td>\n",
       "    </tr>\n",
       "  </tbody>\n",
       "</table>\n",
       "</div>"
      ],
      "text/plain": [
       "       Workclass Education       Marital-status  ...    Sex  Native-country  Income\n",
       "count      32561     32561                32561  ...  32561           32561   32561\n",
       "unique         9        16                    7  ...      2              42       2\n",
       "top      Private   HS-grad   Married-civ-spouse  ...   Male   United-States   <=50K\n",
       "freq       22696     10501                14976  ...  21790           29170   24720\n",
       "\n",
       "[4 rows x 9 columns]"
      ]
     },
     "execution_count": 7,
     "metadata": {
      "tags": []
     },
     "output_type": "execute_result"
    }
   ],
   "source": [
    "income_data.describe(include='O') #object related #category related columns"
   ]
  },
  {
   "cell_type": "markdown",
   "metadata": {
    "id": "Xe9PLnrm95IS"
   },
   "source": [
    "<div style=\"background-color:##FBFFE3\">\n",
    "    <div style=\"float:left\">\n",
    "        <img src='https://drive.google.com/uc?export=download&id=1gpc8kbwaenTpaIvnO_MQR3vw12rKYQrJ', width=20,height=20,>\n",
    "    </div>\n",
    "    <span style=\"padding:20px;\">We can see how many unique values and frquecy of majority values in each categoical column are present.</span>\n",
    "</div>"
   ]
  },
  {
   "cell_type": "code",
   "execution_count": 8,
   "metadata": {
    "colab": {
     "base_uri": "https://localhost:8080/",
     "height": 284
    },
    "executionInfo": {
     "elapsed": 540204,
     "status": "ok",
     "timestamp": 1602333809497,
     "user": {
      "displayName": "Kṛṣṇa solutions",
      "photoUrl": "https://lh3.googleusercontent.com/a-/AOh14GhB9TuOirJiQouhn5RaJmKjKZyzCMuokx0bNZti=s64",
      "userId": "14911029245911425813"
     },
     "user_tz": -330
    },
    "id": "drMM2Y5o95IS",
    "outputId": "5ec5c2f4-ffa8-4772-fd06-8239b2d754f5"
   },
   "outputs": [
    {
     "data": {
      "text/html": [
       "<div>\n",
       "<style scoped>\n",
       "    .dataframe tbody tr th:only-of-type {\n",
       "        vertical-align: middle;\n",
       "    }\n",
       "\n",
       "    .dataframe tbody tr th {\n",
       "        vertical-align: top;\n",
       "    }\n",
       "\n",
       "    .dataframe thead th {\n",
       "        text-align: right;\n",
       "    }\n",
       "</style>\n",
       "<table border=\"1\" class=\"dataframe\">\n",
       "  <thead>\n",
       "    <tr style=\"text-align: right;\">\n",
       "      <th></th>\n",
       "      <th>Age</th>\n",
       "      <th>Fnlwgt</th>\n",
       "      <th>Education-num</th>\n",
       "      <th>Capital-gain</th>\n",
       "      <th>Capital-loss</th>\n",
       "      <th>Hours-per-week</th>\n",
       "    </tr>\n",
       "  </thead>\n",
       "  <tbody>\n",
       "    <tr>\n",
       "      <th>count</th>\n",
       "      <td>32561.000000</td>\n",
       "      <td>3.256100e+04</td>\n",
       "      <td>32561.000000</td>\n",
       "      <td>32561.000000</td>\n",
       "      <td>32561.000000</td>\n",
       "      <td>32561.000000</td>\n",
       "    </tr>\n",
       "    <tr>\n",
       "      <th>mean</th>\n",
       "      <td>38.581647</td>\n",
       "      <td>1.897784e+05</td>\n",
       "      <td>10.080679</td>\n",
       "      <td>1077.648844</td>\n",
       "      <td>87.303830</td>\n",
       "      <td>40.437456</td>\n",
       "    </tr>\n",
       "    <tr>\n",
       "      <th>std</th>\n",
       "      <td>13.640433</td>\n",
       "      <td>1.055500e+05</td>\n",
       "      <td>2.572720</td>\n",
       "      <td>7385.292085</td>\n",
       "      <td>402.960219</td>\n",
       "      <td>12.347429</td>\n",
       "    </tr>\n",
       "    <tr>\n",
       "      <th>min</th>\n",
       "      <td>17.000000</td>\n",
       "      <td>1.228500e+04</td>\n",
       "      <td>1.000000</td>\n",
       "      <td>0.000000</td>\n",
       "      <td>0.000000</td>\n",
       "      <td>1.000000</td>\n",
       "    </tr>\n",
       "    <tr>\n",
       "      <th>25%</th>\n",
       "      <td>28.000000</td>\n",
       "      <td>1.178270e+05</td>\n",
       "      <td>9.000000</td>\n",
       "      <td>0.000000</td>\n",
       "      <td>0.000000</td>\n",
       "      <td>40.000000</td>\n",
       "    </tr>\n",
       "    <tr>\n",
       "      <th>50%</th>\n",
       "      <td>37.000000</td>\n",
       "      <td>1.783560e+05</td>\n",
       "      <td>10.000000</td>\n",
       "      <td>0.000000</td>\n",
       "      <td>0.000000</td>\n",
       "      <td>40.000000</td>\n",
       "    </tr>\n",
       "    <tr>\n",
       "      <th>75%</th>\n",
       "      <td>48.000000</td>\n",
       "      <td>2.370510e+05</td>\n",
       "      <td>12.000000</td>\n",
       "      <td>0.000000</td>\n",
       "      <td>0.000000</td>\n",
       "      <td>45.000000</td>\n",
       "    </tr>\n",
       "    <tr>\n",
       "      <th>max</th>\n",
       "      <td>90.000000</td>\n",
       "      <td>1.484705e+06</td>\n",
       "      <td>16.000000</td>\n",
       "      <td>99999.000000</td>\n",
       "      <td>4356.000000</td>\n",
       "      <td>99.000000</td>\n",
       "    </tr>\n",
       "  </tbody>\n",
       "</table>\n",
       "</div>"
      ],
      "text/plain": [
       "                Age        Fnlwgt  ...  Capital-loss  Hours-per-week\n",
       "count  32561.000000  3.256100e+04  ...  32561.000000    32561.000000\n",
       "mean      38.581647  1.897784e+05  ...     87.303830       40.437456\n",
       "std       13.640433  1.055500e+05  ...    402.960219       12.347429\n",
       "min       17.000000  1.228500e+04  ...      0.000000        1.000000\n",
       "25%       28.000000  1.178270e+05  ...      0.000000       40.000000\n",
       "50%       37.000000  1.783560e+05  ...      0.000000       40.000000\n",
       "75%       48.000000  2.370510e+05  ...      0.000000       45.000000\n",
       "max       90.000000  1.484705e+06  ...   4356.000000       99.000000\n",
       "\n",
       "[8 rows x 6 columns]"
      ]
     },
     "execution_count": 8,
     "metadata": {
      "tags": []
     },
     "output_type": "execute_result"
    }
   ],
   "source": [
    "income_data.describe()"
   ]
  },
  {
   "cell_type": "markdown",
   "metadata": {
    "id": "L-8cv0ko95IY"
   },
   "source": [
    "<div style=\"background-color:##FBFFE3\">\n",
    "    <div style=\"float:left\">\n",
    "        <img src='https://drive.google.com/uc?export=download&id=1gpc8kbwaenTpaIvnO_MQR3vw12rKYQrJ', width=20,height=20,>\n",
    "    </div>\n",
    "    <span style=\"padding:20px;\">We can check standard deviation, mean and other values of all continous columns present in the dataset.</span>\n",
    "</div>"
   ]
  },
  {
   "cell_type": "markdown",
   "metadata": {
    "id": "oE-eebBR95IY"
   },
   "source": [
    "<div style=\"background-color:##EDF9FF\">\n",
    "  <ul><li><h3>Checking DataType</h3></li></ul>\n",
    "</div>"
   ]
  },
  {
   "cell_type": "code",
   "execution_count": 9,
   "metadata": {
    "colab": {
     "base_uri": "https://localhost:8080/",
     "height": 286
    },
    "executionInfo": {
     "elapsed": 540194,
     "status": "ok",
     "timestamp": 1602333809498,
     "user": {
      "displayName": "Kṛṣṇa solutions",
      "photoUrl": "https://lh3.googleusercontent.com/a-/AOh14GhB9TuOirJiQouhn5RaJmKjKZyzCMuokx0bNZti=s64",
      "userId": "14911029245911425813"
     },
     "user_tz": -330
    },
    "id": "onLsNRGI95IZ",
    "outputId": "57307480-a6b1-4e41-e4d3-06eb6368380a"
   },
   "outputs": [
    {
     "data": {
      "text/plain": [
       "Age                int64\n",
       "Workclass         object\n",
       "Fnlwgt             int64\n",
       "Education         object\n",
       "Education-num      int64\n",
       "Marital-status    object\n",
       "Occupation        object\n",
       "Relationship      object\n",
       "Race              object\n",
       "Sex               object\n",
       "Capital-gain       int64\n",
       "Capital-loss       int64\n",
       "Hours-per-week     int64\n",
       "Native-country    object\n",
       "Income            object\n",
       "dtype: object"
      ]
     },
     "execution_count": 9,
     "metadata": {
      "tags": []
     },
     "output_type": "execute_result"
    }
   ],
   "source": [
    "income_data.dtypes"
   ]
  },
  {
   "cell_type": "markdown",
   "metadata": {
    "id": "f7Wva3dF95Ie"
   },
   "source": [
    "<div style=\"background-color:##FBFFE3\">\n",
    "    <div style=\"float:left\">\n",
    "        <img src='https://drive.google.com/uc?export=download&id=1gpc8kbwaenTpaIvnO_MQR3vw12rKYQrJ', width=20,height=20,>\n",
    "    </div>\n",
    "    <span style=\"padding:20px;\">We will have to encode the categorical features later</span>\n",
    "</div>"
   ]
  },
  {
   "cell_type": "markdown",
   "metadata": {
    "id": "zDAxFP-R95If"
   },
   "source": [
    "<div style=\"background-color:##EDF9FF\">\n",
    "  <ul><li><h3> Testing For Null Values</h3></li></ul>\n",
    "</div>"
   ]
  },
  {
   "cell_type": "code",
   "execution_count": 10,
   "metadata": {
    "colab": {
     "base_uri": "https://localhost:8080/",
     "height": 286
    },
    "executionInfo": {
     "elapsed": 540185,
     "status": "ok",
     "timestamp": 1602333809500,
     "user": {
      "displayName": "Kṛṣṇa solutions",
      "photoUrl": "https://lh3.googleusercontent.com/a-/AOh14GhB9TuOirJiQouhn5RaJmKjKZyzCMuokx0bNZti=s64",
      "userId": "14911029245911425813"
     },
     "user_tz": -330
    },
    "id": "_BcsQOXz95Ig",
    "outputId": "82be5969-5804-4777-8c17-f7c88ce2a5e6"
   },
   "outputs": [
    {
     "data": {
      "text/plain": [
       "Age               0\n",
       "Workclass         0\n",
       "Fnlwgt            0\n",
       "Education         0\n",
       "Education-num     0\n",
       "Marital-status    0\n",
       "Occupation        0\n",
       "Relationship      0\n",
       "Race              0\n",
       "Sex               0\n",
       "Capital-gain      0\n",
       "Capital-loss      0\n",
       "Hours-per-week    0\n",
       "Native-country    0\n",
       "Income            0\n",
       "dtype: int64"
      ]
     },
     "execution_count": 10,
     "metadata": {
      "tags": []
     },
     "output_type": "execute_result"
    }
   ],
   "source": [
    "income_data.isnull().sum()"
   ]
  },
  {
   "cell_type": "markdown",
   "metadata": {
    "id": "-o8GHGem95Il"
   },
   "source": [
    "<div style=\"background-color:##FBFFE3\">\n",
    "    <div style=\"float:left\">\n",
    "        <img src='https://drive.google.com/uc?export=download&id=1gpc8kbwaenTpaIvnO_MQR3vw12rKYQrJ', width=20,height=20,>\n",
    "    </div>\n",
    "    <span style=\"padding:20px;\">Dataset has no null values</span>\n",
    "</div>"
   ]
  },
  {
   "cell_type": "code",
   "execution_count": 11,
   "metadata": {
    "colab": {
     "base_uri": "https://localhost:8080/",
     "height": 286
    },
    "executionInfo": {
     "elapsed": 540175,
     "status": "ok",
     "timestamp": 1602333809501,
     "user": {
      "displayName": "Kṛṣṇa solutions",
      "photoUrl": "https://lh3.googleusercontent.com/a-/AOh14GhB9TuOirJiQouhn5RaJmKjKZyzCMuokx0bNZti=s64",
      "userId": "14911029245911425813"
     },
     "user_tz": -330
    },
    "id": "HpISBMil95Im",
    "outputId": "7592fae1-fb89-4f78-b30f-45d2db470223"
   },
   "outputs": [
    {
     "data": {
      "text/plain": [
       "Age               0\n",
       "Workclass         0\n",
       "Fnlwgt            0\n",
       "Education         0\n",
       "Education-num     0\n",
       "Marital-status    0\n",
       "Occupation        0\n",
       "Relationship      0\n",
       "Race              0\n",
       "Sex               0\n",
       "Capital-gain      0\n",
       "Capital-loss      0\n",
       "Hours-per-week    0\n",
       "Native-country    0\n",
       "Income            0\n",
       "dtype: int64"
      ]
     },
     "execution_count": 11,
     "metadata": {
      "tags": []
     },
     "output_type": "execute_result"
    }
   ],
   "source": [
    "income_data.isna().sum()"
   ]
  },
  {
   "cell_type": "markdown",
   "metadata": {
    "id": "jJEuzVyu95Iq"
   },
   "source": [
    "<div style=\"background-color:##FBFFE3\">\n",
    "    <div style=\"float:left\">\n",
    "        <img src='https://drive.google.com/uc?export=download&id=1gpc8kbwaenTpaIvnO_MQR3vw12rKYQrJ', width=20,height=20,>\n",
    "    </div>\n",
    "    <span style=\"padding:20px;\">Dataset has no NA values</span>\n",
    "</div>"
   ]
  },
  {
   "cell_type": "markdown",
   "metadata": {
    "id": "DDhzKcpU95Ir"
   },
   "source": [
    "<div style=\"background-color:##EDF9FF\">\n",
    "  <ul><li><h3> Check Distribution Of Target Variable</h3></li></ul>\n",
    "</div>"
   ]
  },
  {
   "cell_type": "code",
   "execution_count": 12,
   "metadata": {
    "colab": {
     "base_uri": "https://localhost:8080/",
     "height": 67
    },
    "executionInfo": {
     "elapsed": 540166,
     "status": "ok",
     "timestamp": 1602333809502,
     "user": {
      "displayName": "Kṛṣṇa solutions",
      "photoUrl": "https://lh3.googleusercontent.com/a-/AOh14GhB9TuOirJiQouhn5RaJmKjKZyzCMuokx0bNZti=s64",
      "userId": "14911029245911425813"
     },
     "user_tz": -330
    },
    "id": "i1-eWId095Is",
    "outputId": "50b65aee-b3c4-49cb-d863-8cdc7865750c",
    "scrolled": false
   },
   "outputs": [
    {
     "name": "stdout",
     "output_type": "stream",
     "text": [
      " <=50K    0.75919\n",
      " >50K     0.24081\n",
      "Name: Income, dtype: float64\n"
     ]
    }
   ],
   "source": [
    "Target_ratio=income_data['Income'].value_counts()/len(income_data)\n",
    "print(Target_ratio)\n",
    "\n",
    "# Fraudulent transactions data, 99.99% of data is good (no fraud) and 0.01% of fraud data\n",
    "\n",
    "#target -- label of one class is more than 70%, than we say the data is imbalanced\n",
    "\n",
    "#whether the dataset is balanced or imbalanced"
   ]
  },
  {
   "cell_type": "code",
   "execution_count": 13,
   "metadata": {
    "colab": {
     "base_uri": "https://localhost:8080/",
     "height": 374
    },
    "executionInfo": {
     "elapsed": 540157,
     "status": "ok",
     "timestamp": 1602333809504,
     "user": {
      "displayName": "Kṛṣṇa solutions",
      "photoUrl": "https://lh3.googleusercontent.com/a-/AOh14GhB9TuOirJiQouhn5RaJmKjKZyzCMuokx0bNZti=s64",
      "userId": "14911029245911425813"
     },
     "user_tz": -330
    },
    "id": "YnpzGLUZ95Iw",
    "outputId": "5970edc1-0901-4e6e-d9e5-dcfd050f37a6"
   },
   "outputs": [
    {
     "data": {
      "image/png": "[encoded data removed]",
      "text/plain": [
       "<Figure size 432x432 with 1 Axes>"
      ]
     },
     "metadata": {
      "needs_background": "light",
      "tags": []
     },
     "output_type": "display_data"
    }
   ],
   "source": [
    "## Checking for data unbalance\n",
    "plt.figure(figsize = (6,6))\n",
    "plt.bar(Target_ratio.index,Target_ratio)\n",
    "plt.ylabel('Percentage')\n",
    "plt.show()"
   ]
  },
  {
   "cell_type": "markdown",
   "metadata": {
    "id": "QFZCDBcH95I4"
   },
   "source": [
    "<div style=\"background-color:##FBFFE3\">\n",
    "    <div style=\"float:left\">\n",
    "        <img src='https://drive.google.com/uc?export=download&id=1gpc8kbwaenTpaIvnO_MQR3vw12rKYQrJ', width=20,height=20,>\n",
    "    </div>\n",
    "    <span style=\"padding:20px;\">Dataset has around 24% of entries where income is >50K</span>\n",
    "</div>"
   ]
  },
  {
   "cell_type": "markdown",
   "metadata": {
    "id": "nqdBwy-_95I6"
   },
   "source": [
    "<div style=\"background-color:##EDF9FF\">\n",
    "  <ul><li><h3>Encode Target Vairable</h3></li></ul>\n",
    "</div>"
   ]
  },
  {
   "cell_type": "code",
   "execution_count": 14,
   "metadata": {
    "executionInfo": {
     "elapsed": 540155,
     "status": "ok",
     "timestamp": 1602333809506,
     "user": {
      "displayName": "Kṛṣṇa solutions",
      "photoUrl": "https://lh3.googleusercontent.com/a-/AOh14GhB9TuOirJiQouhn5RaJmKjKZyzCMuokx0bNZti=s64",
      "userId": "14911029245911425813"
     },
     "user_tz": -330
    },
    "id": "P9ll_vhT95I7"
   },
   "outputs": [],
   "source": [
    "lb=LabelEncoder()\n",
    "income_data.Income=lb.fit_transform(income_data.Income)"
   ]
  },
  {
   "cell_type": "markdown",
   "metadata": {
    "id": "A_fpQY_xAiJA"
   },
   "source": [
    "<=50k is marked as 0 and >= 50K IS MARKED AS 1"
   ]
  },
  {
   "cell_type": "code",
   "execution_count": 15,
   "metadata": {
    "colab": {
     "base_uri": "https://localhost:8080/",
     "height": 34
    },
    "executionInfo": {
     "elapsed": 540146,
     "status": "ok",
     "timestamp": 1602333809507,
     "user": {
      "displayName": "Kṛṣṇa solutions",
      "photoUrl": "https://lh3.googleusercontent.com/a-/AOh14GhB9TuOirJiQouhn5RaJmKjKZyzCMuokx0bNZti=s64",
      "userId": "14911029245911425813"
     },
     "user_tz": -330
    },
    "id": "IsU3Rn4C95JB",
    "outputId": "a7cf746c-ab77-498f-db1b-9f51afe6b7b6"
   },
   "outputs": [
    {
     "data": {
      "text/plain": [
       "array([' <=50K', ' >50K'], dtype=object)"
      ]
     },
     "execution_count": 15,
     "metadata": {
      "tags": []
     },
     "output_type": "execute_result"
    }
   ],
   "source": [
    "lb.classes_"
   ]
  },
  {
   "cell_type": "markdown",
   "metadata": {
    "id": "ksOQEAxq95JL"
   },
   "source": [
    "<div style=\"background-color:##FBFFE3\">\n",
    "    <div style=\"float:left\">\n",
    "        <img src='https://drive.google.com/uc?export=download&id=1gpc8kbwaenTpaIvnO_MQR3vw12rKYQrJ', width=20,height=20,>\n",
    "    </div>\n",
    "    <span style=\"padding:20px;\">There are two classes in this dataset</span>\n",
    "</div>"
   ]
  },
  {
   "cell_type": "markdown",
   "metadata": {
    "id": "Ow-45BK695JM"
   },
   "source": [
    "<div style=\"background-color:##EDF9FF\">\n",
    "  <ul><li><h3> Convert Categorical Features</h3></li></ul>\n",
    "</div>"
   ]
  },
  {
   "cell_type": "code",
   "execution_count": 16,
   "metadata": {
    "colab": {
     "base_uri": "https://localhost:8080/",
     "height": 34
    },
    "executionInfo": {
     "elapsed": 540136,
     "status": "ok",
     "timestamp": 1602333809508,
     "user": {
      "displayName": "Kṛṣṇa solutions",
      "photoUrl": "https://lh3.googleusercontent.com/a-/AOh14GhB9TuOirJiQouhn5RaJmKjKZyzCMuokx0bNZti=s64",
      "userId": "14911029245911425813"
     },
     "user_tz": -330
    },
    "id": "UFMrNagI95JO",
    "outputId": "4b38f1dc-1899-4885-acdf-03a0d7a16efb",
    "scrolled": true
   },
   "outputs": [
    {
     "name": "stdout",
     "output_type": "stream",
     "text": [
      "Workclass | Education | Marital-status | Occupation | Relationship | Race | Sex | Native-country\n"
     ]
    }
   ],
   "source": [
    "cat_features=income_data.columns[income_data.dtypes=='O']\n",
    "print(*cat_features,sep=' | ') # * is wildcard to print a list, where parameter sep is used to define a separator."
   ]
  },
  {
   "cell_type": "markdown",
   "metadata": {
    "id": "EQopGtH995JU"
   },
   "source": [
    "<div style=\"background-color:##FBFFE3\">\n",
    "    <div style=\"float:left\">\n",
    "        <img src='https://drive.google.com/uc?export=download&id=1gpc8kbwaenTpaIvnO_MQR3vw12rKYQrJ', width=20,height=20,>\n",
    "    </div>\n",
    "    <span style=\"padding:20px;\">We will perform dummitization on these</span>\n",
    "</div>"
   ]
  },
  {
   "cell_type": "code",
   "execution_count": 17,
   "metadata": {
    "executionInfo": {
     "elapsed": 540134,
     "status": "ok",
     "timestamp": 1602333809509,
     "user": {
      "displayName": "Kṛṣṇa solutions",
      "photoUrl": "https://lh3.googleusercontent.com/a-/AOh14GhB9TuOirJiQouhn5RaJmKjKZyzCMuokx0bNZti=s64",
      "userId": "14911029245911425813"
     },
     "user_tz": -330
    },
    "id": "OuNEDe3395JW"
   },
   "outputs": [],
   "source": [
    "new_data = pd.get_dummies(income_data, columns = cat_features)\n"
   ]
  },
  {
   "cell_type": "code",
   "execution_count": 18,
   "metadata": {
    "colab": {
     "base_uri": "https://localhost:8080/",
     "height": 34
    },
    "executionInfo": {
     "elapsed": 540123,
     "status": "ok",
     "timestamp": 1602333809510,
     "user": {
      "displayName": "Kṛṣṇa solutions",
      "photoUrl": "https://lh3.googleusercontent.com/a-/AOh14GhB9TuOirJiQouhn5RaJmKjKZyzCMuokx0bNZti=s64",
      "userId": "14911029245911425813"
     },
     "user_tz": -330
    },
    "id": "aTa85ssy95Je",
    "outputId": "ac159319-cada-4aff-fe67-e3dbb7c8ca85"
   },
   "outputs": [
    {
     "data": {
      "text/plain": [
       "(32561, 109)"
      ]
     },
     "execution_count": 18,
     "metadata": {
      "tags": []
     },
     "output_type": "execute_result"
    }
   ],
   "source": [
    "new_data.shape"
   ]
  },
  {
   "cell_type": "code",
   "execution_count": 19,
   "metadata": {
    "colab": {
     "base_uri": "https://localhost:8080/",
     "height": 311
    },
    "executionInfo": {
     "elapsed": 541088,
     "status": "ok",
     "timestamp": 1602333810484,
     "user": {
      "displayName": "Kṛṣṇa solutions",
      "photoUrl": "https://lh3.googleusercontent.com/a-/AOh14GhB9TuOirJiQouhn5RaJmKjKZyzCMuokx0bNZti=s64",
      "userId": "14911029245911425813"
     },
     "user_tz": -330
    },
    "id": "8TAj1RYl95Jl",
    "outputId": "2bbd671c-2b48-4617-9fad-3f59dbc59efa"
   },
   "outputs": [
    {
     "data": {
      "text/html": [
       "<div>\n",
       "<style scoped>\n",
       "    .dataframe tbody tr th:only-of-type {\n",
       "        vertical-align: middle;\n",
       "    }\n",
       "\n",
       "    .dataframe tbody tr th {\n",
       "        vertical-align: top;\n",
       "    }\n",
       "\n",
       "    .dataframe thead th {\n",
       "        text-align: right;\n",
       "    }\n",
       "</style>\n",
       "<table border=\"1\" class=\"dataframe\">\n",
       "  <thead>\n",
       "    <tr style=\"text-align: right;\">\n",
       "      <th></th>\n",
       "      <th>Age</th>\n",
       "      <th>Fnlwgt</th>\n",
       "      <th>Education-num</th>\n",
       "      <th>Capital-gain</th>\n",
       "      <th>Capital-loss</th>\n",
       "      <th>Hours-per-week</th>\n",
       "      <th>Income</th>\n",
       "      <th>Workclass_ ?</th>\n",
       "      <th>Workclass_ Federal-gov</th>\n",
       "      <th>Workclass_ Local-gov</th>\n",
       "      <th>Workclass_ Never-worked</th>\n",
       "      <th>Workclass_ Private</th>\n",
       "      <th>Workclass_ Self-emp-inc</th>\n",
       "      <th>Workclass_ Self-emp-not-inc</th>\n",
       "      <th>Workclass_ State-gov</th>\n",
       "      <th>Workclass_ Without-pay</th>\n",
       "      <th>Education_ 10th</th>\n",
       "      <th>Education_ 11th</th>\n",
       "      <th>Education_ 12th</th>\n",
       "      <th>Education_ 1st-4th</th>\n",
       "      <th>Education_ 5th-6th</th>\n",
       "      <th>Education_ 7th-8th</th>\n",
       "      <th>Education_ 9th</th>\n",
       "      <th>Education_ Assoc-acdm</th>\n",
       "      <th>Education_ Assoc-voc</th>\n",
       "      <th>Education_ Bachelors</th>\n",
       "      <th>Education_ Doctorate</th>\n",
       "      <th>Education_ HS-grad</th>\n",
       "      <th>Education_ Masters</th>\n",
       "      <th>Education_ Preschool</th>\n",
       "      <th>Education_ Prof-school</th>\n",
       "      <th>Education_ Some-college</th>\n",
       "      <th>Marital-status_ Divorced</th>\n",
       "      <th>Marital-status_ Married-AF-spouse</th>\n",
       "      <th>Marital-status_ Married-civ-spouse</th>\n",
       "      <th>Marital-status_ Married-spouse-absent</th>\n",
       "      <th>Marital-status_ Never-married</th>\n",
       "      <th>Marital-status_ Separated</th>\n",
       "      <th>Marital-status_ Widowed</th>\n",
       "      <th>Occupation_ ?</th>\n",
       "      <th>...</th>\n",
       "      <th>Native-country_ Canada</th>\n",
       "      <th>Native-country_ China</th>\n",
       "      <th>Native-country_ Columbia</th>\n",
       "      <th>Native-country_ Cuba</th>\n",
       "      <th>Native-country_ Dominican-Republic</th>\n",
       "      <th>Native-country_ Ecuador</th>\n",
       "      <th>Native-country_ El-Salvador</th>\n",
       "      <th>Native-country_ England</th>\n",
       "      <th>Native-country_ France</th>\n",
       "      <th>Native-country_ Germany</th>\n",
       "      <th>Native-country_ Greece</th>\n",
       "      <th>Native-country_ Guatemala</th>\n",
       "      <th>Native-country_ Haiti</th>\n",
       "      <th>Native-country_ Holand-Netherlands</th>\n",
       "      <th>Native-country_ Honduras</th>\n",
       "      <th>Native-country_ Hong</th>\n",
       "      <th>Native-country_ Hungary</th>\n",
       "      <th>Native-country_ India</th>\n",
       "      <th>Native-country_ Iran</th>\n",
       "      <th>Native-country_ Ireland</th>\n",
       "      <th>Native-country_ Italy</th>\n",
       "      <th>Native-country_ Jamaica</th>\n",
       "      <th>Native-country_ Japan</th>\n",
       "      <th>Native-country_ Laos</th>\n",
       "      <th>Native-country_ Mexico</th>\n",
       "      <th>Native-country_ Nicaragua</th>\n",
       "      <th>Native-country_ Outlying-US(Guam-USVI-etc)</th>\n",
       "      <th>Native-country_ Peru</th>\n",
       "      <th>Native-country_ Philippines</th>\n",
       "      <th>Native-country_ Poland</th>\n",
       "      <th>Native-country_ Portugal</th>\n",
       "      <th>Native-country_ Puerto-Rico</th>\n",
       "      <th>Native-country_ Scotland</th>\n",
       "      <th>Native-country_ South</th>\n",
       "      <th>Native-country_ Taiwan</th>\n",
       "      <th>Native-country_ Thailand</th>\n",
       "      <th>Native-country_ Trinadad&amp;Tobago</th>\n",
       "      <th>Native-country_ United-States</th>\n",
       "      <th>Native-country_ Vietnam</th>\n",
       "      <th>Native-country_ Yugoslavia</th>\n",
       "    </tr>\n",
       "  </thead>\n",
       "  <tbody>\n",
       "    <tr>\n",
       "      <th>0</th>\n",
       "      <td>39</td>\n",
       "      <td>77516</td>\n",
       "      <td>13</td>\n",
       "      <td>2174</td>\n",
       "      <td>0</td>\n",
       "      <td>40</td>\n",
       "      <td>0</td>\n",
       "      <td>0</td>\n",
       "      <td>0</td>\n",
       "      <td>0</td>\n",
       "      <td>0</td>\n",
       "      <td>0</td>\n",
       "      <td>0</td>\n",
       "      <td>0</td>\n",
       "      <td>1</td>\n",
       "      <td>0</td>\n",
       "      <td>0</td>\n",
       "      <td>0</td>\n",
       "      <td>0</td>\n",
       "      <td>0</td>\n",
       "      <td>0</td>\n",
       "      <td>0</td>\n",
       "      <td>0</td>\n",
       "      <td>0</td>\n",
       "      <td>0</td>\n",
       "      <td>1</td>\n",
       "      <td>0</td>\n",
       "      <td>0</td>\n",
       "      <td>0</td>\n",
       "      <td>0</td>\n",
       "      <td>0</td>\n",
       "      <td>0</td>\n",
       "      <td>0</td>\n",
       "      <td>0</td>\n",
       "      <td>0</td>\n",
       "      <td>0</td>\n",
       "      <td>1</td>\n",
       "      <td>0</td>\n",
       "      <td>0</td>\n",
       "      <td>0</td>\n",
       "      <td>...</td>\n",
       "      <td>0</td>\n",
       "      <td>0</td>\n",
       "      <td>0</td>\n",
       "      <td>0</td>\n",
       "      <td>0</td>\n",
       "      <td>0</td>\n",
       "      <td>0</td>\n",
       "      <td>0</td>\n",
       "      <td>0</td>\n",
       "      <td>0</td>\n",
       "      <td>0</td>\n",
       "      <td>0</td>\n",
       "      <td>0</td>\n",
       "      <td>0</td>\n",
       "      <td>0</td>\n",
       "      <td>0</td>\n",
       "      <td>0</td>\n",
       "      <td>0</td>\n",
       "      <td>0</td>\n",
       "      <td>0</td>\n",
       "      <td>0</td>\n",
       "      <td>0</td>\n",
       "      <td>0</td>\n",
       "      <td>0</td>\n",
       "      <td>0</td>\n",
       "      <td>0</td>\n",
       "      <td>0</td>\n",
       "      <td>0</td>\n",
       "      <td>0</td>\n",
       "      <td>0</td>\n",
       "      <td>0</td>\n",
       "      <td>0</td>\n",
       "      <td>0</td>\n",
       "      <td>0</td>\n",
       "      <td>0</td>\n",
       "      <td>0</td>\n",
       "      <td>0</td>\n",
       "      <td>1</td>\n",
       "      <td>0</td>\n",
       "      <td>0</td>\n",
       "    </tr>\n",
       "    <tr>\n",
       "      <th>1</th>\n",
       "      <td>50</td>\n",
       "      <td>83311</td>\n",
       "      <td>13</td>\n",
       "      <td>0</td>\n",
       "      <td>0</td>\n",
       "      <td>13</td>\n",
       "      <td>0</td>\n",
       "      <td>0</td>\n",
       "      <td>0</td>\n",
       "      <td>0</td>\n",
       "      <td>0</td>\n",
       "      <td>0</td>\n",
       "      <td>0</td>\n",
       "      <td>1</td>\n",
       "      <td>0</td>\n",
       "      <td>0</td>\n",
       "      <td>0</td>\n",
       "      <td>0</td>\n",
       "      <td>0</td>\n",
       "      <td>0</td>\n",
       "      <td>0</td>\n",
       "      <td>0</td>\n",
       "      <td>0</td>\n",
       "      <td>0</td>\n",
       "      <td>0</td>\n",
       "      <td>1</td>\n",
       "      <td>0</td>\n",
       "      <td>0</td>\n",
       "      <td>0</td>\n",
       "      <td>0</td>\n",
       "      <td>0</td>\n",
       "      <td>0</td>\n",
       "      <td>0</td>\n",
       "      <td>0</td>\n",
       "      <td>1</td>\n",
       "      <td>0</td>\n",
       "      <td>0</td>\n",
       "      <td>0</td>\n",
       "      <td>0</td>\n",
       "      <td>0</td>\n",
       "      <td>...</td>\n",
       "      <td>0</td>\n",
       "      <td>0</td>\n",
       "      <td>0</td>\n",
       "      <td>0</td>\n",
       "      <td>0</td>\n",
       "      <td>0</td>\n",
       "      <td>0</td>\n",
       "      <td>0</td>\n",
       "      <td>0</td>\n",
       "      <td>0</td>\n",
       "      <td>0</td>\n",
       "      <td>0</td>\n",
       "      <td>0</td>\n",
       "      <td>0</td>\n",
       "      <td>0</td>\n",
       "      <td>0</td>\n",
       "      <td>0</td>\n",
       "      <td>0</td>\n",
       "      <td>0</td>\n",
       "      <td>0</td>\n",
       "      <td>0</td>\n",
       "      <td>0</td>\n",
       "      <td>0</td>\n",
       "      <td>0</td>\n",
       "      <td>0</td>\n",
       "      <td>0</td>\n",
       "      <td>0</td>\n",
       "      <td>0</td>\n",
       "      <td>0</td>\n",
       "      <td>0</td>\n",
       "      <td>0</td>\n",
       "      <td>0</td>\n",
       "      <td>0</td>\n",
       "      <td>0</td>\n",
       "      <td>0</td>\n",
       "      <td>0</td>\n",
       "      <td>0</td>\n",
       "      <td>1</td>\n",
       "      <td>0</td>\n",
       "      <td>0</td>\n",
       "    </tr>\n",
       "    <tr>\n",
       "      <th>2</th>\n",
       "      <td>38</td>\n",
       "      <td>215646</td>\n",
       "      <td>9</td>\n",
       "      <td>0</td>\n",
       "      <td>0</td>\n",
       "      <td>40</td>\n",
       "      <td>0</td>\n",
       "      <td>0</td>\n",
       "      <td>0</td>\n",
       "      <td>0</td>\n",
       "      <td>0</td>\n",
       "      <td>1</td>\n",
       "      <td>0</td>\n",
       "      <td>0</td>\n",
       "      <td>0</td>\n",
       "      <td>0</td>\n",
       "      <td>0</td>\n",
       "      <td>0</td>\n",
       "      <td>0</td>\n",
       "      <td>0</td>\n",
       "      <td>0</td>\n",
       "      <td>0</td>\n",
       "      <td>0</td>\n",
       "      <td>0</td>\n",
       "      <td>0</td>\n",
       "      <td>0</td>\n",
       "      <td>0</td>\n",
       "      <td>1</td>\n",
       "      <td>0</td>\n",
       "      <td>0</td>\n",
       "      <td>0</td>\n",
       "      <td>0</td>\n",
       "      <td>1</td>\n",
       "      <td>0</td>\n",
       "      <td>0</td>\n",
       "      <td>0</td>\n",
       "      <td>0</td>\n",
       "      <td>0</td>\n",
       "      <td>0</td>\n",
       "      <td>0</td>\n",
       "      <td>...</td>\n",
       "      <td>0</td>\n",
       "      <td>0</td>\n",
       "      <td>0</td>\n",
       "      <td>0</td>\n",
       "      <td>0</td>\n",
       "      <td>0</td>\n",
       "      <td>0</td>\n",
       "      <td>0</td>\n",
       "      <td>0</td>\n",
       "      <td>0</td>\n",
       "      <td>0</td>\n",
       "      <td>0</td>\n",
       "      <td>0</td>\n",
       "      <td>0</td>\n",
       "      <td>0</td>\n",
       "      <td>0</td>\n",
       "      <td>0</td>\n",
       "      <td>0</td>\n",
       "      <td>0</td>\n",
       "      <td>0</td>\n",
       "      <td>0</td>\n",
       "      <td>0</td>\n",
       "      <td>0</td>\n",
       "      <td>0</td>\n",
       "      <td>0</td>\n",
       "      <td>0</td>\n",
       "      <td>0</td>\n",
       "      <td>0</td>\n",
       "      <td>0</td>\n",
       "      <td>0</td>\n",
       "      <td>0</td>\n",
       "      <td>0</td>\n",
       "      <td>0</td>\n",
       "      <td>0</td>\n",
       "      <td>0</td>\n",
       "      <td>0</td>\n",
       "      <td>0</td>\n",
       "      <td>1</td>\n",
       "      <td>0</td>\n",
       "      <td>0</td>\n",
       "    </tr>\n",
       "    <tr>\n",
       "      <th>3</th>\n",
       "      <td>53</td>\n",
       "      <td>234721</td>\n",
       "      <td>7</td>\n",
       "      <td>0</td>\n",
       "      <td>0</td>\n",
       "      <td>40</td>\n",
       "      <td>0</td>\n",
       "      <td>0</td>\n",
       "      <td>0</td>\n",
       "      <td>0</td>\n",
       "      <td>0</td>\n",
       "      <td>1</td>\n",
       "      <td>0</td>\n",
       "      <td>0</td>\n",
       "      <td>0</td>\n",
       "      <td>0</td>\n",
       "      <td>0</td>\n",
       "      <td>1</td>\n",
       "      <td>0</td>\n",
       "      <td>0</td>\n",
       "      <td>0</td>\n",
       "      <td>0</td>\n",
       "      <td>0</td>\n",
       "      <td>0</td>\n",
       "      <td>0</td>\n",
       "      <td>0</td>\n",
       "      <td>0</td>\n",
       "      <td>0</td>\n",
       "      <td>0</td>\n",
       "      <td>0</td>\n",
       "      <td>0</td>\n",
       "      <td>0</td>\n",
       "      <td>0</td>\n",
       "      <td>0</td>\n",
       "      <td>1</td>\n",
       "      <td>0</td>\n",
       "      <td>0</td>\n",
       "      <td>0</td>\n",
       "      <td>0</td>\n",
       "      <td>0</td>\n",
       "      <td>...</td>\n",
       "      <td>0</td>\n",
       "      <td>0</td>\n",
       "      <td>0</td>\n",
       "      <td>0</td>\n",
       "      <td>0</td>\n",
       "      <td>0</td>\n",
       "      <td>0</td>\n",
       "      <td>0</td>\n",
       "      <td>0</td>\n",
       "      <td>0</td>\n",
       "      <td>0</td>\n",
       "      <td>0</td>\n",
       "      <td>0</td>\n",
       "      <td>0</td>\n",
       "      <td>0</td>\n",
       "      <td>0</td>\n",
       "      <td>0</td>\n",
       "      <td>0</td>\n",
       "      <td>0</td>\n",
       "      <td>0</td>\n",
       "      <td>0</td>\n",
       "      <td>0</td>\n",
       "      <td>0</td>\n",
       "      <td>0</td>\n",
       "      <td>0</td>\n",
       "      <td>0</td>\n",
       "      <td>0</td>\n",
       "      <td>0</td>\n",
       "      <td>0</td>\n",
       "      <td>0</td>\n",
       "      <td>0</td>\n",
       "      <td>0</td>\n",
       "      <td>0</td>\n",
       "      <td>0</td>\n",
       "      <td>0</td>\n",
       "      <td>0</td>\n",
       "      <td>0</td>\n",
       "      <td>1</td>\n",
       "      <td>0</td>\n",
       "      <td>0</td>\n",
       "    </tr>\n",
       "    <tr>\n",
       "      <th>4</th>\n",
       "      <td>28</td>\n",
       "      <td>338409</td>\n",
       "      <td>13</td>\n",
       "      <td>0</td>\n",
       "      <td>0</td>\n",
       "      <td>40</td>\n",
       "      <td>0</td>\n",
       "      <td>0</td>\n",
       "      <td>0</td>\n",
       "      <td>0</td>\n",
       "      <td>0</td>\n",
       "      <td>1</td>\n",
       "      <td>0</td>\n",
       "      <td>0</td>\n",
       "      <td>0</td>\n",
       "      <td>0</td>\n",
       "      <td>0</td>\n",
       "      <td>0</td>\n",
       "      <td>0</td>\n",
       "      <td>0</td>\n",
       "      <td>0</td>\n",
       "      <td>0</td>\n",
       "      <td>0</td>\n",
       "      <td>0</td>\n",
       "      <td>0</td>\n",
       "      <td>1</td>\n",
       "      <td>0</td>\n",
       "      <td>0</td>\n",
       "      <td>0</td>\n",
       "      <td>0</td>\n",
       "      <td>0</td>\n",
       "      <td>0</td>\n",
       "      <td>0</td>\n",
       "      <td>0</td>\n",
       "      <td>1</td>\n",
       "      <td>0</td>\n",
       "      <td>0</td>\n",
       "      <td>0</td>\n",
       "      <td>0</td>\n",
       "      <td>0</td>\n",
       "      <td>...</td>\n",
       "      <td>0</td>\n",
       "      <td>0</td>\n",
       "      <td>0</td>\n",
       "      <td>1</td>\n",
       "      <td>0</td>\n",
       "      <td>0</td>\n",
       "      <td>0</td>\n",
       "      <td>0</td>\n",
       "      <td>0</td>\n",
       "      <td>0</td>\n",
       "      <td>0</td>\n",
       "      <td>0</td>\n",
       "      <td>0</td>\n",
       "      <td>0</td>\n",
       "      <td>0</td>\n",
       "      <td>0</td>\n",
       "      <td>0</td>\n",
       "      <td>0</td>\n",
       "      <td>0</td>\n",
       "      <td>0</td>\n",
       "      <td>0</td>\n",
       "      <td>0</td>\n",
       "      <td>0</td>\n",
       "      <td>0</td>\n",
       "      <td>0</td>\n",
       "      <td>0</td>\n",
       "      <td>0</td>\n",
       "      <td>0</td>\n",
       "      <td>0</td>\n",
       "      <td>0</td>\n",
       "      <td>0</td>\n",
       "      <td>0</td>\n",
       "      <td>0</td>\n",
       "      <td>0</td>\n",
       "      <td>0</td>\n",
       "      <td>0</td>\n",
       "      <td>0</td>\n",
       "      <td>0</td>\n",
       "      <td>0</td>\n",
       "      <td>0</td>\n",
       "    </tr>\n",
       "  </tbody>\n",
       "</table>\n",
       "<p>5 rows × 109 columns</p>\n",
       "</div>"
      ],
      "text/plain": [
       "   Age  Fnlwgt  ...  Native-country_ Vietnam  Native-country_ Yugoslavia\n",
       "0   39   77516  ...                        0                           0\n",
       "1   50   83311  ...                        0                           0\n",
       "2   38  215646  ...                        0                           0\n",
       "3   53  234721  ...                        0                           0\n",
       "4   28  338409  ...                        0                           0\n",
       "\n",
       "[5 rows x 109 columns]"
      ]
     },
     "execution_count": 19,
     "metadata": {
      "tags": []
     },
     "output_type": "execute_result"
    }
   ],
   "source": [
    "new_data.head()"
   ]
  },
  {
   "cell_type": "markdown",
   "metadata": {
    "id": "HyG1q0Sb95Js"
   },
   "source": [
    "<div style=\"background-color:##EDF9FF\">\n",
    "  <ul><li><h3>Training And Testing Data</h3></li></ul>\n",
    "</div>"
   ]
  },
  {
   "cell_type": "code",
   "execution_count": 20,
   "metadata": {
    "executionInfo": {
     "elapsed": 541087,
     "status": "ok",
     "timestamp": 1602333810486,
     "user": {
      "displayName": "Kṛṣṇa solutions",
      "photoUrl": "https://lh3.googleusercontent.com/a-/AOh14GhB9TuOirJiQouhn5RaJmKjKZyzCMuokx0bNZti=s64",
      "userId": "14911029245911425813"
     },
     "user_tz": -330
    },
    "id": "rsJu7p0l95Jt"
   },
   "outputs": [],
   "source": [
    "X=new_data\n",
    "y=new_data.Income"
   ]
  },
  {
   "cell_type": "code",
   "execution_count": 21,
   "metadata": {
    "executionInfo": {
     "elapsed": 541086,
     "status": "ok",
     "timestamp": 1602333810489,
     "user": {
      "displayName": "Kṛṣṇa solutions",
      "photoUrl": "https://lh3.googleusercontent.com/a-/AOh14GhB9TuOirJiQouhn5RaJmKjKZyzCMuokx0bNZti=s64",
      "userId": "14911029245911425813"
     },
     "user_tz": -330
    },
    "id": "eN8immY_95Jy"
   },
   "outputs": [],
   "source": [
    "X_train, X_test, y_train, y_test=train_test_split(X,y,random_state=0,test_size=0.3)"
   ]
  },
  {
   "cell_type": "markdown",
   "metadata": {
    "id": "82J3dSX595J6"
   },
   "source": [
    "---"
   ]
  },
  {
   "cell_type": "markdown",
   "metadata": {
    "id": "B8HuMoOq95J7"
   },
   "source": [
    "## Naīve Bayes Training"
   ]
  },
  {
   "cell_type": "markdown",
   "metadata": {
    "id": "nxuamt4D95J9"
   },
   "source": [
    "There are three types of naive bayes in scikit learn:\n",
    "\n",
    "\n",
    "\n",
    "\n",
    "- <a href='http://scikit-learn.org/stable/modules/generated/sklearn.naive_bayes.BernoulliNB.htmlBernoulliNB'>__Bernoulli__</a>: Bernoulli Naīve Bayes is designed for binary/boolean features and discrete data. Key hyperparameters to be considered before training a bayesian model:\n",
    "    - __alpha__: A float value to determine laplace smoothin parameter which is __1.0__ by default. When set to __0__, no smoothing is present\n",
    "    - __binarize__: An optional float value which is threshold for binarizing of sample features. If __None__, input data is already considered to have binary features.\n",
    "\n",
    "\n",
    "- <a href='http://scikit-learn.org/stable/modules/generated/sklearn.naive_bayes.GaussianNB.html'>__Gaussian__</a>: Gaussian Naīve Bayes which can be used when target variable is continous and features follow a normal distribution.\n",
    "    - __var_smoothing__: An optional float value to determine how much portion of largest variance should be added to variances for statbility calculation.\n",
    "\n",
    "\n",
    "- <a href='http://scikit-learn.org/stable/modules/generated/sklearn.naive_bayes.MultinomialNB.html '>__Multinomial__</a>: Multinomial Naīve Bayes is used for dicrete counts. Generally, used for text classification.\n",
    "    - __alpha__: A float value to determine laplace smoothin parameter which is __1.0__ by default. When set to __0__, no smoothing is present."
   ]
  },
  {
   "cell_type": "markdown",
   "metadata": {
    "id": "GSZVKYzR95J-"
   },
   "source": [
    "<div style=\"background-color:##FBFFE3\">\n",
    "    <div style=\"float:left\">\n",
    "        <img src='https://drive.google.com/uc?export=download&id=1gpc8kbwaenTpaIvnO_MQR3vw12rKYQrJ', width=20,height=20,>\n",
    "    </div>\n",
    "    <span style=\"padding:20px;\">Assuming Data to be normally distributed we will apply the gaussian model and the data can also be fit into bernoulli model.</span>\n",
    "</div>"
   ]
  },
  {
   "cell_type": "markdown",
   "metadata": {
    "id": "jYOogZ9G95J_"
   },
   "source": [
    "<div style=\"background-color:##EDF9FF\">\n",
    "  <ul><li><h3>Training Gaussian Naive Bayes</h3></li></ul>\n",
    "</div>"
   ]
  },
  {
   "cell_type": "code",
   "execution_count": 22,
   "metadata": {
    "colab": {
     "base_uri": "https://localhost:8080/",
     "height": 34
    },
    "executionInfo": {
     "elapsed": 541079,
     "status": "ok",
     "timestamp": 1602333810491,
     "user": {
      "displayName": "Kṛṣṇa solutions",
      "photoUrl": "https://lh3.googleusercontent.com/a-/AOh14GhB9TuOirJiQouhn5RaJmKjKZyzCMuokx0bNZti=s64",
      "userId": "14911029245911425813"
     },
     "user_tz": -330
    },
    "id": "rj7ZR4Uv95KA",
    "outputId": "cda02894-9bbb-4a2c-ee3e-174a6d75d8f3"
   },
   "outputs": [
    {
     "data": {
      "text/plain": [
       "GaussianNB(priors=None, var_smoothing=1e-09)"
      ]
     },
     "execution_count": 22,
     "metadata": {
      "tags": []
     },
     "output_type": "execute_result"
    }
   ],
   "source": [
    "gaussian_nb=GaussianNB()\n",
    "gaussian_nb.fit(X_train,y_train)"
   ]
  },
  {
   "cell_type": "markdown",
   "metadata": {
    "id": "lyxnRIHs95KF"
   },
   "source": [
    "<div style=\"background-color:##EDF9FF\">\n",
    "  <ul><li><h3>Training Bernoulli Naive Bayes</h3></li></ul>\n",
    "</div>"
   ]
  },
  {
   "cell_type": "code",
   "execution_count": 23,
   "metadata": {
    "colab": {
     "base_uri": "https://localhost:8080/",
     "height": 34
    },
    "executionInfo": {
     "elapsed": 541070,
     "status": "ok",
     "timestamp": 1602333810493,
     "user": {
      "displayName": "Kṛṣṇa solutions",
      "photoUrl": "https://lh3.googleusercontent.com/a-/AOh14GhB9TuOirJiQouhn5RaJmKjKZyzCMuokx0bNZti=s64",
      "userId": "14911029245911425813"
     },
     "user_tz": -330
    },
    "id": "w0i1yoNq95KF",
    "outputId": "6b741266-66ba-4217-a50d-b9ddf795abbf"
   },
   "outputs": [
    {
     "data": {
      "text/plain": [
       "BernoulliNB(alpha=1.0, binarize=0.0, class_prior=None, fit_prior=True)"
      ]
     },
     "execution_count": 23,
     "metadata": {
      "tags": []
     },
     "output_type": "execute_result"
    }
   ],
   "source": [
    "bernoulli_nb=BernoulliNB()\n",
    "bernoulli_nb.fit(X_train,y_train)"
   ]
  },
  {
   "cell_type": "markdown",
   "metadata": {
    "id": "JxTjdds595KK"
   },
   "source": [
    "---"
   ]
  },
  {
   "cell_type": "markdown",
   "metadata": {
    "id": "AUdgCG4995KL"
   },
   "source": [
    "## Accuracy Score"
   ]
  },
  {
   "cell_type": "markdown",
   "metadata": {
    "id": "ym10mmQc95KM"
   },
   "source": [
    "<div style=\"background-color:##EDF9FF\">\n",
    "  <ul><li><h3> Gaussian Naive Bayes</h3></li></ul>\n",
    "</div>"
   ]
  },
  {
   "cell_type": "code",
   "execution_count": 24,
   "metadata": {
    "colab": {
     "base_uri": "https://localhost:8080/",
     "height": 34
    },
    "executionInfo": {
     "elapsed": 541063,
     "status": "ok",
     "timestamp": 1602333810496,
     "user": {
      "displayName": "Kṛṣṇa solutions",
      "photoUrl": "https://lh3.googleusercontent.com/a-/AOh14GhB9TuOirJiQouhn5RaJmKjKZyzCMuokx0bNZti=s64",
      "userId": "14911029245911425813"
     },
     "user_tz": -330
    },
    "id": "YplYzDym95KN",
    "outputId": "14e85f62-fa3d-4d33-d712-800569e73a62"
   },
   "outputs": [
    {
     "name": "stdout",
     "output_type": "stream",
     "text": [
      "Accuracy Score:  0.7974204115057836\n"
     ]
    }
   ],
   "source": [
    "pred=gaussian_nb.predict(X_test)\n",
    "acc_gnb=accuracy_score(y_test,pred)\n",
    "print('Accuracy Score: ',acc_gnb)"
   ]
  },
  {
   "cell_type": "markdown",
   "metadata": {
    "id": "oPvjg1US95KQ"
   },
   "source": [
    "<div style=\"background-color:##EDF9FF\">\n",
    "  <ul><li><h3> Bernoulli Naive Bayes</h3></li></ul>\n",
    "</div>"
   ]
  },
  {
   "cell_type": "code",
   "execution_count": 25,
   "metadata": {
    "colab": {
     "base_uri": "https://localhost:8080/",
     "height": 34
    },
    "executionInfo": {
     "elapsed": 541056,
     "status": "ok",
     "timestamp": 1602333810498,
     "user": {
      "displayName": "Kṛṣṇa solutions",
      "photoUrl": "https://lh3.googleusercontent.com/a-/AOh14GhB9TuOirJiQouhn5RaJmKjKZyzCMuokx0bNZti=s64",
      "userId": "14911029245911425813"
     },
     "user_tz": -330
    },
    "id": "XSor-DcS95KR",
    "outputId": "6d0f7e4c-9c4f-410a-aec0-c77aa09301d1"
   },
   "outputs": [
    {
     "name": "stdout",
     "output_type": "stream",
     "text": [
      "Accuracy Score:  0.9986692599037773\n"
     ]
    }
   ],
   "source": [
    "pred=bernoulli_nb.predict(X_test)\n",
    "acc_bnb=accuracy_score(y_test,pred)\n",
    "print('Accuracy Score: ',acc_bnb)"
   ]
  },
  {
   "cell_type": "code",
   "execution_count": 26,
   "metadata": {
    "colab": {
     "base_uri": "https://localhost:8080/",
     "height": 282
    },
    "executionInfo": {
     "elapsed": 541049,
     "status": "ok",
     "timestamp": 1602333810500,
     "user": {
      "displayName": "Kṛṣṇa solutions",
      "photoUrl": "https://lh3.googleusercontent.com/a-/AOh14GhB9TuOirJiQouhn5RaJmKjKZyzCMuokx0bNZti=s64",
      "userId": "14911029245911425813"
     },
     "user_tz": -330
    },
    "id": "X7X_2nET95KV",
    "outputId": "f6c34c7a-a348-451d-d6da-d2f5a57f4568"
   },
   "outputs": [
    {
     "data": {
      "text/plain": [
       "<BarContainer object of 2 artists>"
      ]
     },
     "execution_count": 26,
     "metadata": {
      "tags": []
     },
     "output_type": "execute_result"
    },
    {
     "data": {
      "image/png": "[encoded data removed]",
      "text/plain": [
       "<Figure size 432x288 with 1 Axes>"
      ]
     },
     "metadata": {
      "needs_background": "light",
      "tags": []
     },
     "output_type": "display_data"
    }
   ],
   "source": [
    "plt.barh(['Gaussian','Bernoulli'],[acc_gnb,acc_bnb])"
   ]
  },
  {
   "cell_type": "markdown",
   "metadata": {
    "id": "mvImSLgn95Ka"
   },
   "source": [
    "<div style=\"background-color:##FBFFE3\">\n",
    "    <div style=\"float:left\">\n",
    "        <img src='https://drive.google.com/uc?export=download&id=1gpc8kbwaenTpaIvnO_MQR3vw12rKYQrJ', width=20,height=20,>\n",
    "    </div>\n",
    "    <span style=\"padding:20px;\">As you can see, Bernoulli has better accuracy than gaussian</span>\n",
    "</div>"
   ]
  },
  {
   "cell_type": "code",
   "execution_count": 26,
   "metadata": {
    "executionInfo": {
     "elapsed": 541046,
     "status": "ok",
     "timestamp": 1602333810501,
     "user": {
      "displayName": "Kṛṣṇa solutions",
      "photoUrl": "https://lh3.googleusercontent.com/a-/AOh14GhB9TuOirJiQouhn5RaJmKjKZyzCMuokx0bNZti=s64",
      "userId": "14911029245911425813"
     },
     "user_tz": -330
    },
    "id": "eP0-vno9BuSp"
   },
   "outputs": [],
   "source": [
    ""
   ]
  }
 ],
 "metadata": {
  "colab": {
   "name": "Naive_Bayes.ipynb",
   "provenance": []
  },
  "kernelspec": {
   "display_name": "Python 3",
   "language": "python",
   "name": "python3"
  },
  "language_info": {
   "codemirror_mode": {
    "name": "ipython",
    "version": 3
   },
   "file_extension": ".py",
   "mimetype": "text/x-python",
   "name": "python",
   "nbconvert_exporter": "python",
   "pygments_lexer": "ipython3",
   "version": "3.7.3"
  }
 },
 "nbformat": 4,
 "nbformat_minor": 0
}
